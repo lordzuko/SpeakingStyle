{
 "cells": [
  {
   "cell_type": "code",
   "execution_count": 1,
   "metadata": {},
   "outputs": [],
   "source": [
    "import os\n",
    "\n",
    "import librosa\n",
    "import numpy as np\n",
    "from scipy.io import wavfile\n",
    "from tqdm.notebook import tqdm\n",
    "\n",
    "from text import _clean_text\n",
    "\n",
    "import yaml\n",
    "import joblib\n",
    "from joblib import Parallel, delayed\n",
    "from dask.distributed import Client\n",
    "\n",
    "client = Client()"
   ]
  },
  {
   "cell_type": "code",
   "execution_count": 2,
   "metadata": {},
   "outputs": [],
   "source": [
    "from glob import glob\n",
    "import json\n",
    "import matplotlib.pyplot as plt"
   ]
  },
  {
   "cell_type": "code",
   "execution_count": 3,
   "metadata": {},
   "outputs": [],
   "source": [
    "pitch_path = \"/scratch/space1/tc046/lordzuko/work/data/preprocessed_data/BC2013/pitch/*.npy\"\n",
    "duration_path = \"/scratch/space1/tc046/lordzuko/work/data/preprocessed_data/BC2013/duration/*.npy\"\n",
    "energy_path = \"/scratch/space1/tc046/lordzuko/work/data/preprocessed_data/BC2013/energy/*.npy\"\n",
    "stats_path = \"/scratch/space1/tc046/lordzuko/work/data/preprocessed_data/BC2013/stats.json\""
   ]
  },
  {
   "cell_type": "code",
   "execution_count": 4,
   "metadata": {},
   "outputs": [],
   "source": [
    "source = \"/scratch/space1/tc046/lordzuko/work/data/preprocessed_data/BC2013/val.txt\""
   ]
  },
  {
   "cell_type": "code",
   "execution_count": 5,
   "metadata": {},
   "outputs": [],
   "source": [
    "vlist = []\n",
    "with open(source) as f:\n",
    "    for x in f.readlines():\n",
    "        vlist.append(x.split(\"|\")[0])"
   ]
  },
  {
   "cell_type": "code",
   "execution_count": 6,
   "metadata": {},
   "outputs": [],
   "source": [
    "with open(stats_path) as f:\n",
    "    stats = json.load(f)"
   ]
  },
  {
   "cell_type": "code",
   "execution_count": 7,
   "metadata": {},
   "outputs": [
    {
     "data": {
      "text/plain": [
       "{'pitch': [-4.130854596155979,\n",
       "  11.531974804192563,\n",
       "  196.76025206151675,\n",
       "  47.631851347325224],\n",
       " 'energy': [-1.356759786605835,\n",
       "  6.692559719085693,\n",
       "  51.43988901345133,\n",
       "  37.91377736601564]}"
      ]
     },
     "execution_count": 7,
     "metadata": {},
     "output_type": "execute_result"
    }
   ],
   "source": [
    "stats"
   ]
  },
  {
   "cell_type": "code",
   "execution_count": 8,
   "metadata": {},
   "outputs": [
    {
     "name": "stdout",
     "output_type": "stream",
     "text": [
      "512\n"
     ]
    }
   ],
   "source": [
    "print(len(vlist))"
   ]
  },
  {
   "cell_type": "code",
   "execution_count": 9,
   "metadata": {},
   "outputs": [
    {
     "data": {
      "application/vnd.jupyter.widget-view+json": {
       "model_id": "a16e8530ec79438d84396eecec9c4f23",
       "version_major": 2,
       "version_minor": 0
      },
      "text/plain": [
       "tota:> :   0%|          | 0/39960 [00:00<?, ?it/s]"
      ]
     },
     "metadata": {},
     "output_type": "display_data"
    }
   ],
   "source": [
    "pitch_list = []\n",
    "for x in tqdm(glob(pitch_path), total=len(glob(pitch_path)), desc=\"tota:> \"):\n",
    "    \n",
    "    y = \"-\".join(x.split(\"/\")[-1].split(\".\")[0].split(\"-\")[2:])\n",
    "    if y in vlist:\n",
    "        pitch = np.load(x)\n",
    "        pitch = pitch * stats[\"pitch\"][3] + stats[\"pitch\"][2]\n",
    "        pitch_list.extend(pitch)\n",
    "#     print(pitch)\n",
    "    \n",
    "#     \n",
    "#     print(pitch)\n",
    "#     break"
   ]
  },
  {
   "cell_type": "code",
   "execution_count": 10,
   "metadata": {},
   "outputs": [
    {
     "data": {
      "text/plain": [
       "20262"
      ]
     },
     "execution_count": 10,
     "metadata": {},
     "output_type": "execute_result"
    }
   ],
   "source": [
    "len(pitch_list)"
   ]
  },
  {
   "cell_type": "code",
   "execution_count": 11,
   "metadata": {},
   "outputs": [
    {
     "data": {
      "text/plain": [
       "(array([6.000e+00, 0.000e+00, 0.000e+00, 0.000e+00, 0.000e+00, 0.000e+00,\n",
       "        5.300e+01, 1.260e+02, 1.150e+02, 1.400e+02, 2.650e+02, 4.220e+02,\n",
       "        8.320e+02, 1.519e+03, 2.162e+03, 2.230e+03, 2.092e+03, 1.852e+03,\n",
       "        1.664e+03, 1.404e+03, 1.168e+03, 9.440e+02, 7.100e+02, 6.330e+02,\n",
       "        4.990e+02, 3.470e+02, 2.730e+02, 2.210e+02, 1.480e+02, 8.900e+01,\n",
       "        7.500e+01, 6.400e+01, 5.000e+01, 3.000e+01, 3.100e+01, 2.200e+01,\n",
       "        2.300e+01, 1.400e+01, 1.700e+01, 7.000e+00, 4.000e+00, 1.000e+00,\n",
       "        2.000e+00, 0.000e+00, 5.000e+00, 1.000e+00, 1.000e+00, 0.000e+00,\n",
       "        0.000e+00, 1.000e+00]),\n",
       " array([  0.        ,  11.02884588,  22.05769175,  33.08653763,\n",
       "         44.1153835 ,  55.14422938,  66.17307526,  77.20192113,\n",
       "         88.23076701,  99.25961288, 110.28845876, 121.31730464,\n",
       "        132.34615051, 143.37499639, 154.40384226, 165.43268814,\n",
       "        176.46153402, 187.49037989, 198.51922577, 209.54807164,\n",
       "        220.57691752, 231.6057634 , 242.63460927, 253.66345515,\n",
       "        264.69230102, 275.7211469 , 286.74999278, 297.77883865,\n",
       "        308.80768453, 319.8365304 , 330.86537628, 341.89422216,\n",
       "        352.92306803, 363.95191391, 374.98075978, 386.00960566,\n",
       "        397.03845154, 408.06729741, 419.09614329, 430.12498916,\n",
       "        441.15383504, 452.18268092, 463.21152679, 474.24037267,\n",
       "        485.26921854, 496.29806442, 507.3269103 , 518.35575617,\n",
       "        529.38460205, 540.41344792, 551.4422938 ]),\n",
       " <BarContainer object of 50 artists>)"
      ]
     },
     "execution_count": 11,
     "metadata": {},
     "output_type": "execute_result"
    },
    {
     "data": {
      "image/png": "[encoded data removed]",
      "text/plain": [
       "<Figure size 640x480 with 1 Axes>"
      ]
     },
     "metadata": {},
     "output_type": "display_data"
    }
   ],
   "source": [
    "plt.hist(pitch_list, bins=50)"
   ]
  },
  {
   "cell_type": "code",
   "execution_count": 12,
   "metadata": {},
   "outputs": [
    {
     "data": {
      "application/vnd.jupyter.widget-view+json": {
       "model_id": "2ff2e2dfb9064a8eb41cbe0797f15c55",
       "version_major": 2,
       "version_minor": 0
      },
      "text/plain": [
       "tota:> :   0%|          | 0/39960 [00:00<?, ?it/s]"
      ]
     },
     "metadata": {},
     "output_type": "display_data"
    }
   ],
   "source": [
    "energy_list = []\n",
    "for x in tqdm(glob(energy_path), total=len(glob(energy_path)), desc=\"tota:> \"):\n",
    "    y = \"-\".join(x.split(\"/\")[-1].split(\".\")[0].split(\"-\")[2:])\n",
    "    if y in vlist:\n",
    "        energy = np.load(x)\n",
    "    #     print(pitch)\n",
    "        energy = energy * stats[\"energy\"][3] + stats[\"energy\"][2]\n",
    "\n",
    "        energy_list.extend(energy)\n",
    "    #     print(pitch)\n",
    "    #     break"
   ]
  },
  {
   "cell_type": "code",
   "execution_count": 13,
   "metadata": {},
   "outputs": [
    {
     "data": {
      "text/plain": [
       "(array([2.003e+03, 9.950e+02, 9.240e+02, 9.830e+02, 1.020e+03, 9.880e+02,\n",
       "        1.049e+03, 1.074e+03, 1.069e+03, 1.030e+03, 9.540e+02, 9.100e+02,\n",
       "        9.010e+02, 7.950e+02, 7.290e+02, 6.180e+02, 5.360e+02, 4.940e+02,\n",
       "        4.020e+02, 3.800e+02, 3.620e+02, 2.830e+02, 2.750e+02, 2.320e+02,\n",
       "        2.000e+02, 1.600e+02, 1.630e+02, 1.490e+02, 1.230e+02, 1.070e+02,\n",
       "        7.100e+01, 5.900e+01, 4.500e+01, 4.200e+01, 3.600e+01, 2.300e+01,\n",
       "        1.900e+01, 1.400e+01, 9.000e+00, 1.100e+01, 3.000e+00, 3.000e+00,\n",
       "        6.000e+00, 4.000e+00, 3.000e+00, 1.000e+00, 3.000e+00, 1.000e+00,\n",
       "        0.000e+00, 1.000e+00]),\n",
       " array([  0.        ,   5.22881603,  10.45763206,  15.6864481 ,\n",
       "         20.91526413,  26.14407921,  31.37289619,  36.60171127,\n",
       "         41.83052826,  47.05934143,  52.28815842,  57.5169754 ,\n",
       "         62.74579239,  67.97460938,  73.20342255,  78.43223572,\n",
       "         83.66105652,  88.88986969,  94.11868286,  99.34750366,\n",
       "        104.57631683, 109.80513763, 115.03395081, 120.26276398,\n",
       "        125.49158478, 130.72039795, 135.94921875, 141.17802429,\n",
       "        146.40684509, 151.63566589, 156.86447144, 162.09329224,\n",
       "        167.32211304, 172.55091858, 177.77973938, 183.00856018,\n",
       "        188.23736572, 193.46618652, 198.69500732, 203.92382812,\n",
       "        209.15263367, 214.38145447, 219.61027527, 224.83908081,\n",
       "        230.06790161, 235.29672241, 240.52552795, 245.75434875,\n",
       "        250.98316956, 256.2119751 , 261.4407959 ]),\n",
       " <BarContainer object of 50 artists>)"
      ]
     },
     "execution_count": 13,
     "metadata": {},
     "output_type": "execute_result"
    },
    {
     "data": {
      "image/png": "[encoded data removed]",
      "text/plain": [
       "<Figure size 640x480 with 1 Axes>"
      ]
     },
     "metadata": {},
     "output_type": "display_data"
    }
   ],
   "source": [
    "plt.hist(energy_list, bins=50)"
   ]
  },
  {
   "cell_type": "code",
   "execution_count": 14,
   "metadata": {},
   "outputs": [
    {
     "data": {
      "application/vnd.jupyter.widget-view+json": {
       "model_id": "ba2e74e8856945fa8adfbce1fd40dcce",
       "version_major": 2,
       "version_minor": 0
      },
      "text/plain": [
       "tota:> :   0%|          | 0/39960 [00:00<?, ?it/s]"
      ]
     },
     "metadata": {},
     "output_type": "display_data"
    }
   ],
   "source": [
    "duration_list = []\n",
    "for x in tqdm(glob(duration_path), total=len(glob(duration_path)), desc=\"tota:> \"):\n",
    "    y = \"-\".join(x.split(\"/\")[-1].split(\".\")[0].split(\"-\")[2:])\n",
    "    if y in vlist:\n",
    "        duration = np.load(x)\n",
    "    #     print(pitch)\n",
    "\n",
    "        duration_list.extend(duration)\n",
    "    #     print(pitch)\n",
    "    #     break"
   ]
  },
  {
   "cell_type": "code",
   "execution_count": 15,
   "metadata": {},
   "outputs": [],
   "source": [
    "def remove_outlier(values):\n",
    "    values = np.array(values)\n",
    "    p25 = np.percentile(values, 25)\n",
    "    p75 = np.percentile(values, 75)\n",
    "    lower = p25 - 3 * (p75 - p25)\n",
    "    upper = p75 + 3 * (p75 - p25)\n",
    "    normal_indices = np.logical_and(values > lower, values < upper)\n",
    "    \n",
    "    return values[normal_indices]"
   ]
  },
  {
   "cell_type": "code",
   "execution_count": 16,
   "metadata": {},
   "outputs": [],
   "source": [
    "clean_duration_list = remove_outlier(duration_list)"
   ]
  },
  {
   "cell_type": "code",
   "execution_count": 17,
   "metadata": {},
   "outputs": [
    {
     "data": {
      "text/plain": [
       "(array([   6.,    0.,    0.,   43.,    0.,    0.,  406.,    0.,    0.,\n",
       "        1671.,    0.,    0., 2830.,    0.,    0., 3097.,    0.,    0.,\n",
       "        3109.,    0.,    0., 2361.,    0.,    0.,    0., 1754.,    0.,\n",
       "           0., 1354.,    0.,    0.,  930.,    0.,    0.,  715.,    0.,\n",
       "           0.,  535.,    0.,    0.,  383.,    0.,    0.,  249.,    0.,\n",
       "           0.,  179.,    0.,    0.,  142.]),\n",
       " array([ 0.  ,  0.32,  0.64,  0.96,  1.28,  1.6 ,  1.92,  2.24,  2.56,\n",
       "         2.88,  3.2 ,  3.52,  3.84,  4.16,  4.48,  4.8 ,  5.12,  5.44,\n",
       "         5.76,  6.08,  6.4 ,  6.72,  7.04,  7.36,  7.68,  8.  ,  8.32,\n",
       "         8.64,  8.96,  9.28,  9.6 ,  9.92, 10.24, 10.56, 10.88, 11.2 ,\n",
       "        11.52, 11.84, 12.16, 12.48, 12.8 , 13.12, 13.44, 13.76, 14.08,\n",
       "        14.4 , 14.72, 15.04, 15.36, 15.68, 16.  ]),\n",
       " <BarContainer object of 50 artists>)"
      ]
     },
     "execution_count": 17,
     "metadata": {},
     "output_type": "execute_result"
    },
    {
     "data": {
      "image/png": "[encoded data removed]",
      "text/plain": [
       "<Figure size 640x480 with 1 Axes>"
      ]
     },
     "metadata": {},
     "output_type": "display_data"
    }
   ],
   "source": [
    "plt.hist(clean_duration_list, bins=50)"
   ]
  },
  {
   "cell_type": "code",
   "execution_count": 21,
   "metadata": {},
   "outputs": [],
   "source": [
    "import re\n",
    "from tqdm.notebook import tqdm\n",
    "import argparse\n",
    "from string import punctuation\n",
    "\n",
    "import torch\n",
    "import yaml\n",
    "import numpy as np\n",
    "from torch.utils.data import DataLoader\n",
    "from g2p_en import G2p\n",
    "from pypinyin import pinyin, Style\n",
    "\n",
    "from utils.model import get_model, get_vocoder\n",
    "from utils.tools import to_device, synth_samples\n",
    "from dataset import TextDataset\n",
    "from text import text_to_sequence\n",
    "\n",
    "device = torch.device(\"cuda\" if torch.cuda.is_available() else \"cpu\")\n",
    "\n"
   ]
  },
  {
   "cell_type": "code",
   "execution_count": 22,
   "metadata": {},
   "outputs": [],
   "source": [
    "\n",
    "def read_lexicon(lex_path):\n",
    "    lexicon = {}\n",
    "    with open(lex_path) as f:\n",
    "        for line in f:\n",
    "            temp = re.split(r\"\\s+\", line.strip(\"\\n\"))\n",
    "            word = temp[0]\n",
    "            phones = temp[1:]\n",
    "            if word.lower() not in lexicon:\n",
    "                lexicon[word.lower()] = phones\n",
    "    return lexicon\n",
    "\n",
    "\n",
    "def preprocess_english(text, preprocess_config):\n",
    "    text = text.rstrip(punctuation)\n",
    "    lexicon = read_lexicon(preprocess_config[\"path\"][\"lexicon_path\"])\n",
    "\n",
    "    g2p = G2p()\n",
    "    phones = []\n",
    "    words = re.split(r\"([,;.\\-\\?\\!\\s+])\", text)\n",
    "    for w in words:\n",
    "        if w.lower() in lexicon:\n",
    "            phones += lexicon[w.lower()]\n",
    "        else:\n",
    "            phones += list(filter(lambda p: p != \" \", g2p(w)))\n",
    "    phones = \"{\" + \"}{\".join(phones) + \"}\"\n",
    "    phones = re.sub(r\"\\{[^\\w\\s]?\\}\", \"{sp}\", phones)\n",
    "    phones = phones.replace(\"}{\", \" \")\n",
    "\n",
    "    print(\"Raw Text Sequence: {}\".format(text))\n",
    "    print(\"Phoneme Sequence: {}\".format(phones))\n",
    "    sequence = np.array(\n",
    "        text_to_sequence(\n",
    "            phones, preprocess_config[\"preprocessing\"][\"text\"][\"text_cleaners\"]\n",
    "        )\n",
    "    )\n",
    "\n",
    "    return np.array(sequence)\n",
    "\n",
    "\n",
    "def preprocess_mandarin(text, preprocess_config):\n",
    "    lexicon = read_lexicon(preprocess_config[\"path\"][\"lexicon_path\"])\n",
    "\n",
    "    phones = []\n",
    "    pinyins = [\n",
    "        p[0]\n",
    "        for p in pinyin(\n",
    "            text, style=Style.TONE3, strict=False, neutral_tone_with_five=True\n",
    "        )\n",
    "    ]\n",
    "    for p in pinyins:\n",
    "        if p in lexicon:\n",
    "            phones += lexicon[p]\n",
    "        else:\n",
    "            phones.append(\"sp\")\n",
    "\n",
    "    phones = \"{\" + \" \".join(phones) + \"}\"\n",
    "    print(\"Raw Text Sequence: {}\".format(text))\n",
    "    print(\"Phoneme Sequence: {}\".format(phones))\n",
    "    sequence = np.array(\n",
    "        text_to_sequence(\n",
    "            phones, preprocess_config[\"preprocessing\"][\"text\"][\"text_cleaners\"]\n",
    "        )\n",
    "    )\n",
    "\n",
    "    return np.array(sequence)\n",
    "\n"
   ]
  },
  {
   "cell_type": "code",
   "execution_count": 23,
   "metadata": {},
   "outputs": [],
   "source": [
    "\n",
    "def synthesize(model, step, configs, vocoder, batchs, control_values):\n",
    "    preprocess_config, model_config, train_config = configs\n",
    "    pitch_control, energy_control, duration_control = control_values\n",
    "\n",
    "    for batch in tqdm(batchs, total=len(batchs), desc=\"batches:> \"):\n",
    "        batch = to_device(batch, device)\n",
    "        with torch.no_grad():\n",
    "            # Forward\n",
    "            output = model(\n",
    "                *(batch[2:]),\n",
    "                p_control=pitch_control,\n",
    "                e_control=energy_control,\n",
    "                d_control=duration_control\n",
    "            )\n",
    "            \n",
    "            pitch = output[1]\n",
    "            energy = output[2]\n",
    "            duration = output[4]\n",
    "            \n",
    "        \n",
    "#             synth_samples(\n",
    "#                 batch,\n",
    "#                 output,\n",
    "#                 vocoder,\n",
    "#                 model_config,\n",
    "#                 preprocess_config,\n",
    "#                 train_config[\"path\"][\"result_path\"],\n",
    "#             )"
   ]
  },
  {
   "cell_type": "code",
   "execution_count": 24,
   "metadata": {},
   "outputs": [],
   "source": [
    "class Args:\n",
    "    mode = \"batch\"\n",
    "    source = \"/scratch/space1/tc046/lordzuko/work/data/preprocessed_data/BC2013/val.txt\"\n",
    "    restore_step = 10000\n",
    "    preprocess_config = \"config/BC2013/preprocess.yaml\"\n",
    "    model_config = \"config/BC2013/model.yaml\"\n",
    "    train_config = \"config/BC2013/train.yaml\"\n",
    "    pitch_control = 1.0\n",
    "    energy_control = 1.0\n",
    "    duration_control = 1.0"
   ]
  },
  {
   "cell_type": "code",
   "execution_count": 25,
   "metadata": {},
   "outputs": [],
   "source": [
    "args = Args()"
   ]
  },
  {
   "cell_type": "code",
   "execution_count": 26,
   "metadata": {},
   "outputs": [],
   "source": [
    "# Read Config\n",
    "preprocess_config = yaml.load(\n",
    "    open(args.preprocess_config, \"r\"), Loader=yaml.FullLoader\n",
    ")\n",
    "model_config = yaml.load(open(args.model_config, \"r\"), Loader=yaml.FullLoader)\n",
    "train_config = yaml.load(open(args.train_config, \"r\"), Loader=yaml.FullLoader)\n",
    "configs = (preprocess_config, model_config, train_config)"
   ]
  },
  {
   "cell_type": "code",
   "execution_count": 27,
   "metadata": {},
   "outputs": [
    {
     "name": "stdout",
     "output_type": "stream",
     "text": [
      "Loading Model...\n",
      "Model Loaded\n",
      "Loading Vocoder...\n",
      "Removing weight norm...\n",
      "Vocoder Loaded\n"
     ]
    }
   ],
   "source": [
    "# Get model\n",
    "print(\"Loading Model...\")\n",
    "model = get_model(args, configs, device, train=False)\n",
    "print(\"Model Loaded\")\n",
    "# Load vocoder\n",
    "print(\"Loading Vocoder...\")\n",
    "vocoder = get_vocoder(model_config, device)\n",
    "print(\"Vocoder Loaded\")\n"
   ]
  },
  {
   "cell_type": "code",
   "execution_count": 28,
   "metadata": {},
   "outputs": [],
   "source": [
    "# Get dataset\n",
    "dataset = TextDataset(args.source, preprocess_config)\n",
    "batchs = DataLoader(\n",
    "    dataset,\n",
    "    batch_size=8,\n",
    "    collate_fn=dataset.collate_fn,\n",
    ")"
   ]
  },
  {
   "cell_type": "code",
   "execution_count": 29,
   "metadata": {},
   "outputs": [],
   "source": [
    "control_values = args.pitch_control, args.energy_control, args.duration_control   "
   ]
  },
  {
   "cell_type": "code",
   "execution_count": 30,
   "metadata": {},
   "outputs": [],
   "source": [
    "pitch_control, energy_control, duration_control = control_values"
   ]
  },
  {
   "cell_type": "code",
   "execution_count": 31,
   "metadata": {},
   "outputs": [
    {
     "data": {
      "application/vnd.jupyter.widget-view+json": {
       "model_id": "2f58db6d68da460eb6b198cde7310539",
       "version_major": 2,
       "version_minor": 0
      },
      "text/plain": [
       "batches:> :   0%|          | 0/64 [00:00<?, ?it/s]"
      ]
     },
     "metadata": {},
     "output_type": "display_data"
    }
   ],
   "source": [
    "pred_pitch_list = []\n",
    "pred_energy_list = []\n",
    "pred_duration_list = []\n",
    "\n",
    "for batch in tqdm(batchs, total=len(batchs), desc=\"batches:> \"):\n",
    "    batch = to_device(batch, device)\n",
    "    with torch.no_grad():\n",
    "        # Forward\n",
    "        output = model(\n",
    "            *(batch[2:]),\n",
    "            p_control=pitch_control,\n",
    "            e_control=energy_control,\n",
    "            d_control=duration_control\n",
    "        )\n",
    "\n",
    "        pitch = output[2]\n",
    "        energy = output[3]\n",
    "        duration = output[5]\n",
    "        src_mask = output[6]\n",
    "        \n",
    "        \n",
    "        for p,e,d, m in zip(pitch, energy, duration, src_mask):\n",
    "            pred_pitch_list.extend(list(p[~m].cpu().numpy()))\n",
    "            pred_energy_list.extend(list(e[~m].cpu().numpy()))\n",
    "            pred_duration_list.extend(list(d[~m].cpu().numpy()))\n"
   ]
  },
  {
   "cell_type": "code",
   "execution_count": 32,
   "metadata": {},
   "outputs": [],
   "source": [
    "pred_np_pitch = np.array(pred_pitch_list) * stats[\"pitch\"][3] + stats[\"pitch\"][2]\n",
    "pred_np_energy = np.array(pred_energy_list) * stats[\"energy\"][3] + stats[\"energy\"][2]"
   ]
  },
  {
   "cell_type": "code",
   "execution_count": 33,
   "metadata": {},
   "outputs": [
    {
     "data": {
      "image/png": "[encoded data removed]",
      "text/plain": [
       "<Figure size 640x480 with 1 Axes>"
      ]
     },
     "metadata": {},
     "output_type": "display_data"
    }
   ],
   "source": [
    "%matplotlib inline\n",
    "\n",
    "plt.hist(pitch_list, bins=50, alpha=0.5, label='true', density=True)\n",
    "plt.hist(list(pred_np_pitch), bins=50, alpha=0.5, label='pred', density=True)\n",
    "plt.legend(loc='upper right')\n",
    "plt.xlabel(\"F0\")\n",
    "plt.show()"
   ]
  },
  {
   "cell_type": "code",
   "execution_count": 34,
   "metadata": {},
   "outputs": [
    {
     "data": {
      "image/png": "[encoded data removed]",
      "text/plain": [
       "<Figure size 640x480 with 1 Axes>"
      ]
     },
     "metadata": {},
     "output_type": "display_data"
    }
   ],
   "source": [
    "%matplotlib inline\n",
    "\n",
    "plt.hist(energy_list, bins=50, alpha=0.5, label='true', density=True)\n",
    "plt.hist(list(pred_np_energy), bins=50, alpha=0.5, label='pred', density=True)\n",
    "plt.legend(loc='upper right')\n",
    "plt.xlabel(\"Energy\")\n",
    "plt.show()"
   ]
  },
  {
   "cell_type": "code",
   "execution_count": 35,
   "metadata": {},
   "outputs": [],
   "source": [
    "clean_pred_duration_list = remove_outlier(pred_duration_list)"
   ]
  },
  {
   "cell_type": "code",
   "execution_count": 36,
   "metadata": {},
   "outputs": [
    {
     "data": {
      "image/png": "[encoded data removed]",
      "text/plain": [
       "<Figure size 640x480 with 1 Axes>"
      ]
     },
     "metadata": {},
     "output_type": "display_data"
    }
   ],
   "source": [
    "%matplotlib inline\n",
    "\n",
    "plt.hist(clean_duration_list, bins=50, alpha=0.5, label='true', density=True)\n",
    "plt.hist(list(clean_pred_duration_list), bins=50, alpha=0.5, label='pred', density=True)\n",
    "plt.legend(loc='upper right')\n",
    "plt.xlabel(\"Duration\")\n",
    "plt.show()"
   ]
  },
  {
   "cell_type": "code",
   "execution_count": 37,
   "metadata": {},
   "outputs": [],
   "source": [
    "def remove_outlier(values):\n",
    "    values = np.array(values)\n",
    "    p25 = np.percentile(values, 25)\n",
    "    p75 = np.percentile(values, 75)\n",
    "    lower = p25 - 6 * (p75 - p25)\n",
    "    upper = p75 + 6 * (p75 - p25)\n",
    "    normal_indices = np.logical_and(values > lower, values < upper)\n",
    "    \n",
    "    return values[normal_indices]"
   ]
  },
  {
   "cell_type": "code",
   "execution_count": 38,
   "metadata": {},
   "outputs": [],
   "source": [
    "clean_duration_list = remove_outlier(duration_list)\n",
    "clean_pred_duration_list = remove_outlier(pred_duration_list)"
   ]
  },
  {
   "cell_type": "code",
   "execution_count": 39,
   "metadata": {},
   "outputs": [
    {
     "data": {
      "image/png": "[encoded data removed]",
      "text/plain": [
       "<Figure size 640x480 with 1 Axes>"
      ]
     },
     "metadata": {},
     "output_type": "display_data"
    }
   ],
   "source": [
    "%matplotlib inline\n",
    "\n",
    "plt.hist(clean_duration_list, bins=50, alpha=0.5, label='true', density=True)\n",
    "plt.hist(list(clean_pred_duration_list), bins=50, alpha=0.5, label='pred', density=True)\n",
    "plt.legend(loc='upper right')\n",
    "plt.xlabel(\"Duration\")\n",
    "plt.show()"
   ]
  },
  {
   "cell_type": "code",
   "execution_count": null,
   "metadata": {},
   "outputs": [],
   "source": []
  },
  {
   "cell_type": "code",
   "execution_count": null,
   "metadata": {},
   "outputs": [],
   "source": []
  },
  {
   "cell_type": "code",
   "execution_count": null,
   "metadata": {},
   "outputs": [],
   "source": []
  }
 ],
 "metadata": {
  "kernelspec": {
   "display_name": "fs2-env",
   "language": "python",
   "name": "fs2"
  },
  "language_info": {
   "codemirror_mode": {
    "name": "ipython",
    "version": 3
   },
   "file_extension": ".py",
   "mimetype": "text/x-python",
   "name": "python",
   "nbconvert_exporter": "python",
   "pygments_lexer": "ipython3",
   "version": "3.8.16"
  }
 },
 "nbformat": 4,
 "nbformat_minor": 2
}
